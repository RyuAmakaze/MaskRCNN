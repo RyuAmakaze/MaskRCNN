{
 "cells": [
  {
   "cell_type": "code",
   "execution_count": 3,
   "metadata": {},
   "outputs": [],
   "source": [
    "\"\"\"\n",
    "learn.ipynb:\n",
    "モデル学習用の一気通貫ファイル\n",
    "Args:\n",
    "    CheckFlag：1にすると処理、内部情報が閲覧用に出力されるモードになる。特に確認用と書かれているところはあとで消す．\n",
    "\"\"\"\n",
    "CheckFlag = 0\n",
    "\n",
    "\n",
    "\"\"\"\n",
    "各ライブラリのversionチェックを行うときに活用。\n",
    "\"\"\"\n",
    "from Cheack_Import_Library import Version_Check\n",
    "Version_Check(CheckFlag)"
   ]
  },
  {
   "cell_type": "code",
   "execution_count": 4,
   "metadata": {
    "scrolled": true
   },
   "outputs": [],
   "source": [
    "\"\"\"\n",
    "データセットのデータを読み込む。\n",
    "Args:\n",
    "    dataset_train : dataset/trainにあるimage,maskフォルダ内のファイルをそれぞれ訓練用のデータとして取り込む。\n",
    "    \n",
    "    dataset_val : dataset/validにあるimage,maskフォルダ内のファイルをそれぞれ交差検定用のデータとして取り込む。\n",
    "    \n",
    "\"\"\"\n",
    "import os\n",
    "from dataset import ShapesDataset\n",
    "\n",
    "#訓練用のデータ\n",
    "TRAIN_DATASET = os.path.join('dataset', 'train')\n",
    "dataset_train = ShapesDataset()\n",
    "dataset_train.load_dataset(TRAIN_DATASET)\n",
    "dataset_train.prepare()\n",
    "\n",
    "#交差検定用のデータ\n",
    "VALID_DATASET = os.path.join('dataset', 'valid')\n",
    "dataset_val = ShapesDataset()\n",
    "dataset_val.load_dataset(VALID_DATASET)\n",
    "dataset_val.prepare()"
   ]
  },
  {
   "cell_type": "code",
   "execution_count": 5,
   "metadata": {},
   "outputs": [],
   "source": [
    "\"\"\"確認用、\n",
    "取り込んだデータを画像として出力する。\n",
    "CheckFlagが1ならば画像が表示される。    \n",
    "\"\"\"\n",
    "from mrcnn import visualize\n",
    "image_ids = dataset_train.image_ids\n",
    "for TRAIN_DATASET in image_ids:\n",
    "    image = dataset_train.load_image(TRAIN_DATASET)\n",
    "    mask, class_ids = dataset_train.load_mask(TRAIN_DATASET)\n",
    "    if CheckFlag == 1:\n",
    "        visualize.display_top_masks(image, mask, class_ids, dataset_train.class_names)"
   ]
  },
  {
   "cell_type": "code",
   "execution_count": 6,
   "metadata": {},
   "outputs": [],
   "source": [
    "\"\"\"確認用、\n",
    "取り込んだ訓練データの配列構造が表示される。\n",
    "CheckFlagが1ならば配列構造が表示される。    \n",
    "\"\"\"\n",
    "import pprint\n",
    "if CheckFlag==1:\n",
    "    pprint.pprint(vars(dataset_train))"
   ]
  },
  {
   "cell_type": "code",
   "execution_count": 7,
   "metadata": {
    "scrolled": true
   },
   "outputs": [],
   "source": [
    "\"\"\"\n",
    "ハイパーパラメータと学習前のモデルをインポートする。 \n",
    "CheckFlagが1ならばハイパーパラメータが表示される。 \n",
    "\"\"\"\n",
    "from config import ShapesConfig\n",
    "import config\n",
    "import mrcnn.model as modellib  \n",
    "\n",
    "config = ShapesConfig()\n",
    "if CheckFlag==1:\n",
    "    config.display()"
   ]
  },
  {
   "cell_type": "code",
   "execution_count": 8,
   "metadata": {},
   "outputs": [
    {
     "name": "stdout",
     "output_type": "stream",
     "text": [
      "WARNING:tensorflow:From C:\\Anaconda\\lib\\site-packages\\keras\\backend\\tensorflow_backend.py:517: The name tf.placeholder is deprecated. Please use tf.compat.v1.placeholder instead.\n",
      "\n",
      "WARNING:tensorflow:From C:\\Anaconda\\lib\\site-packages\\keras\\backend\\tensorflow_backend.py:74: The name tf.get_default_graph is deprecated. Please use tf.compat.v1.get_default_graph instead.\n",
      "\n",
      "WARNING:tensorflow:From C:\\Anaconda\\lib\\site-packages\\keras\\backend\\tensorflow_backend.py:1919: The name tf.nn.fused_batch_norm is deprecated. Please use tf.compat.v1.nn.fused_batch_norm instead.\n",
      "\n",
      "WARNING:tensorflow:From C:\\Anaconda\\lib\\site-packages\\keras\\backend\\tensorflow_backend.py:3976: The name tf.nn.max_pool is deprecated. Please use tf.nn.max_pool2d instead.\n",
      "\n",
      "WARNING:tensorflow:From C:\\Anaconda\\lib\\site-packages\\keras\\backend\\tensorflow_backend.py:2018: The name tf.image.resize_nearest_neighbor is deprecated. Please use tf.compat.v1.image.resize_nearest_neighbor instead.\n",
      "\n",
      "WARNING:tensorflow:From C:\\Users\\トロコイド_山岡\\AppData\\Roaming\\Python\\Python36\\site-packages\\tensorflow\\python\\ops\\array_ops.py:1354: add_dispatch_support.<locals>.wrapper (from tensorflow.python.ops.array_ops) is deprecated and will be removed in a future version.\n",
      "Instructions for updating:\n",
      "Use tf.where in 2.0, which has the same broadcast rule as np.where\n",
      "WARNING:tensorflow:From C:\\Users\\トロコイド_山岡\\OneDrive - Maeda Laboratory\\【00】GramEye\\code\\new\\Mask_RCNN-master\\mrcnn\\model.py:603: calling crop_and_resize_v1 (from tensorflow.python.ops.image_ops_impl) with box_ind is deprecated and will be removed in a future version.\n",
      "Instructions for updating:\n",
      "box_ind is deprecated, use box_indices instead\n",
      "WARNING:tensorflow:From C:\\Users\\トロコイド_山岡\\AppData\\Roaming\\Python\\Python36\\site-packages\\tensorflow\\python\\ops\\variables.py:2618: Variable.initialized_value (from tensorflow.python.ops.variables) is deprecated and will be removed in a future version.\n",
      "Instructions for updating:\n",
      "Use Variable.read_value. Variables in 2.X are initialized automatically both in eager and graph (inside tf.defun) contexts.\n"
     ]
    }
   ],
   "source": [
    "\"\"\"モデルを読み込む\n",
    "どの初期モデルを用いるか？\n",
    "時間がかかるのと，タスクマネージャーで専用GPUが消費されていることを確認できる．\n",
    "\n",
    "最初だとmask_rcnn_coco.h5をインストール．\n",
    "\"\"\"\n",
    "from mrcnn import utils\n",
    "\n",
    "model = modellib.MaskRCNN(mode=\"training\", config=config,\n",
    "                              model_dir=\"logs/model\")\n",
    "\n",
    "COCO_MODEL_PATH = 'mask_rcnn_coco.h5'\n",
    "if not os.path.exists(COCO_MODEL_PATH):\n",
    "    utils.download_trained_weights(COCO_MODEL_PATH)"
   ]
  },
  {
   "cell_type": "code",
   "execution_count": 10,
   "metadata": {},
   "outputs": [],
   "source": [
    "\"\"\"GPU>1のときに用いる．\n",
    "VRAMのリミッター解除\n",
    "GPU_COUNT=1のときはすべてコメントアウトしてかまわない．\n",
    "ここのconfigは上のハイパーパラメータとは異なるのだが，名前だけ書けるとうまく動かない汗\n",
    "\n",
    "Args:\n",
    "    config:TensorFlowのConfigであることに注意！　名前変えたいが，変えると動かぬ（直します）\n",
    "\"\"\"\n",
    "\n",
    "import tensorflow as tf\n",
    "import keras.backend.tensorflow_backend as KTF\n",
    " \n",
    "config = tf.ConfigProto()\n",
    "config.allow_soft_placement=True\n",
    "session = tf.Session(config=config)\n",
    "KTF.set_session(session)"
   ]
  },
  {
   "cell_type": "code",
   "execution_count": 11,
   "metadata": {},
   "outputs": [],
   "source": [
    "\"\"\"モデルの重みを読み込んでいるものと思われる．時間がかかる．\n",
    "Args:\n",
    "\n",
    "\n",
    "\"\"\"\n",
    "model.load_weights(COCO_MODEL_PATH, by_name=True,\n",
    "                       exclude=[\"mrcnn_class_logits\", \"mrcnn_bbox_fc\",\n",
    "                                \"mrcnn_bbox\", \"mrcnn_mask\"])"
   ]
  },
  {
   "cell_type": "code",
   "execution_count": 12,
   "metadata": {},
   "outputs": [
    {
     "name": "stdout",
     "output_type": "stream",
     "text": [
      "\n",
      "Starting at epoch 0. LR=0.01\n",
      "\n",
      "Checkpoint Path: logs/model\\cell_dataset20210409T1336\\mask_rcnn_cell_dataset_{epoch:04d}.h5\n",
      "Selecting layers to train\n",
      "fpn_c5p5               (Conv2D)\n",
      "fpn_c4p4               (Conv2D)\n",
      "fpn_c3p3               (Conv2D)\n",
      "fpn_c2p2               (Conv2D)\n",
      "fpn_p5                 (Conv2D)\n",
      "fpn_p2                 (Conv2D)\n",
      "fpn_p3                 (Conv2D)\n",
      "fpn_p4                 (Conv2D)\n",
      "In model:  rpn_model\n",
      "    rpn_conv_shared        (Conv2D)\n",
      "    rpn_class_raw          (Conv2D)\n",
      "    rpn_bbox_pred          (Conv2D)\n",
      "mrcnn_mask_conv1       (TimeDistributed)\n",
      "mrcnn_mask_bn1         (TimeDistributed)\n",
      "mrcnn_mask_conv2       (TimeDistributed)\n",
      "mrcnn_mask_bn2         (TimeDistributed)\n",
      "mrcnn_class_conv1      (TimeDistributed)\n",
      "mrcnn_class_bn1        (TimeDistributed)\n",
      "mrcnn_mask_conv3       (TimeDistributed)\n",
      "mrcnn_mask_bn3         (TimeDistributed)\n",
      "mrcnn_class_conv2      (TimeDistributed)\n",
      "mrcnn_class_bn2        (TimeDistributed)\n",
      "mrcnn_mask_conv4       (TimeDistributed)\n",
      "mrcnn_mask_bn4         (TimeDistributed)\n",
      "mrcnn_bbox_fc          (TimeDistributed)\n",
      "mrcnn_mask_deconv      (TimeDistributed)\n",
      "mrcnn_class_logits     (TimeDistributed)\n",
      "mrcnn_mask             (TimeDistributed)\n",
      "WARNING:tensorflow:From C:\\Anaconda\\lib\\site-packages\\keras\\optimizers.py:790: The name tf.train.Optimizer is deprecated. Please use tf.compat.v1.train.Optimizer instead.\n",
      "\n"
     ]
    },
    {
     "name": "stderr",
     "output_type": "stream",
     "text": [
      "C:\\Users\\トロコイド_山岡\\AppData\\Roaming\\Python\\Python36\\site-packages\\tensorflow\\python\\ops\\gradients_util.py:93: UserWarning: Converting sparse IndexedSlices to a dense Tensor of unknown shape. This may consume a large amount of memory.\n",
      "  \"Converting sparse IndexedSlices to a dense Tensor of unknown shape. \"\n",
      "C:\\Users\\トロコイド_山岡\\AppData\\Roaming\\Python\\Python36\\site-packages\\tensorflow\\python\\ops\\gradients_util.py:93: UserWarning: Converting sparse IndexedSlices to a dense Tensor of unknown shape. This may consume a large amount of memory.\n",
      "  \"Converting sparse IndexedSlices to a dense Tensor of unknown shape. \"\n",
      "C:\\Users\\トロコイド_山岡\\AppData\\Roaming\\Python\\Python36\\site-packages\\tensorflow\\python\\ops\\gradients_util.py:93: UserWarning: Converting sparse IndexedSlices to a dense Tensor of unknown shape. This may consume a large amount of memory.\n",
      "  \"Converting sparse IndexedSlices to a dense Tensor of unknown shape. \"\n"
     ]
    },
    {
     "name": "stdout",
     "output_type": "stream",
     "text": [
      "WARNING:tensorflow:From C:\\Anaconda\\lib\\site-packages\\keras\\callbacks.py:850: The name tf.summary.merge_all is deprecated. Please use tf.compat.v1.summary.merge_all instead.\n",
      "\n",
      "WARNING:tensorflow:From C:\\Anaconda\\lib\\site-packages\\keras\\callbacks.py:853: The name tf.summary.FileWriter is deprecated. Please use tf.compat.v1.summary.FileWriter instead.\n",
      "\n",
      "Epoch 1/1\n",
      "50/50 [==============================] - 150s 3s/step - loss: 1.4827 - rpn_class_loss: 0.0873 - rpn_bbox_loss: 0.5965 - mrcnn_class_loss: 0.0434 - mrcnn_bbox_loss: 0.4191 - mrcnn_mask_loss: 0.3363 - val_loss: 2.0375 - val_rpn_class_loss: 0.2624 - val_rpn_bbox_loss: 1.2490 - val_mrcnn_class_loss: 0.0358 - val_mrcnn_bbox_loss: 0.2595 - val_mrcnn_mask_loss: 0.2308\n"
     ]
    }
   ],
   "source": [
    "\"\"\"モデルの訓練を行う．本学習．時間とGPUが消費される．\n",
    "Args:\n",
    "    learning_rate : 学習速度\n",
    "    \n",
    "    epochs : エポック数\n",
    "    \n",
    "    layers:\n",
    "\n",
    "\"\"\"\n",
    "model.train(dataset_train, dataset_val,\n",
    "                learning_rate=0.01,\n",
    "                epochs=1,\n",
    "                layers='heads')"
   ]
  },
  {
   "cell_type": "code",
   "execution_count": null,
   "metadata": {},
   "outputs": [],
   "source": []
  }
 ],
 "metadata": {
  "kernelspec": {
   "display_name": "Python 3",
   "language": "python",
   "name": "python3"
  },
  "language_info": {
   "codemirror_mode": {
    "name": "ipython",
    "version": 3
   },
   "file_extension": ".py",
   "mimetype": "text/x-python",
   "name": "python",
   "nbconvert_exporter": "python",
   "pygments_lexer": "ipython3",
   "version": "3.6.5"
  }
 },
 "nbformat": 4,
 "nbformat_minor": 2
}
